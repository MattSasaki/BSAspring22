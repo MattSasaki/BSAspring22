{
 "cells": [
  {
   "cell_type": "code",
   "execution_count": 1,
   "id": "47c7f145",
   "metadata": {},
   "outputs": [],
   "source": [
    "import pandas as pd\n",
    "import numpy as np\n",
    "import matplotlib.pyplot as plt\n",
    "import seaborn as sns"
   ]
  },
  {
   "cell_type": "code",
   "execution_count": 106,
   "id": "ba2b7f1d",
   "metadata": {},
   "outputs": [],
   "source": [
    "odds2021 = pd.read_csv('preseason odds/2021odds.csv')\n",
    "odds2020 = pd.read_csv('preseason odds/2020odds.csv')\n",
    "odds2019 = pd.read_csv('preseason odds/2019odds.csv')\n",
    "odds2018 = pd.read_csv('preseason odds/2018odds.csv')\n",
    "odds2017 = pd.read_csv('preseason odds/2017odds.csv')\n",
    "odds2016 = pd.read_csv('preseason odds/2016odds.csv')\n",
    "odds2015 = pd.read_csv('preseason odds/2015odds.csv')\n",
    "odds2014 = pd.read_csv('preseason odds/2014odds.csv')\n",
    "odds2013 = pd.read_csv('preseason odds/2013odds.csv')\n",
    "odds2012 = pd.read_csv('preseason odds/2012odds.csv')\n",
    "odds2011 = pd.read_csv('preseason odds/2011odds.csv')\n",
    "odds2010 = pd.read_csv('preseason odds/2010odds.csv')\n",
    "odds2009 = pd.read_csv('preseason odds/2009odds.csv')\n",
    "odds2008 = pd.read_csv('preseason odds/2008odds.csv')\n",
    "odds2007 = pd.read_csv('preseason odds/2007odds.csv')\n",
    "odds2006 = pd.read_csv('preseason odds/2006odds.csv')\n",
    "odds2005 = pd.read_csv('preseason odds/2005odds.csv')\n",
    "odds2004 = pd.read_csv('preseason odds/2004odds.csv')\n",
    "odds2003 = pd.read_csv('preseason odds/2003odds.csv')\n",
    "odds2002 = pd.read_csv('preseason odds/2002odds.csv')\n",
    "odds2001 = pd.read_csv('preseason odds/2001odds.csv')\n",
    "odds2000 = pd.read_csv('preseason odds/2000odds.csv')"
   ]
  },
  {
   "cell_type": "code",
   "execution_count": 107,
   "id": "3baaa33f",
   "metadata": {},
   "outputs": [],
   "source": [
    "def clean_df(x):\n",
    "    results = x['Result']\n",
    "    wins = []\n",
    "    for result in results:\n",
    "        wins.append(int(result.split('-')[0]))\n",
    "    short_names = []\n",
    "    names = x['Team']\n",
    "    for team in names:\n",
    "        short_names.append(team.split(' ')[-1])\n",
    "    x['Result'] = wins\n",
    "    x['Team'] = short_names\n",
    "    x = x.drop('Unnamed: 2', axis=1)\n",
    "    x = x.rename(columns={'W-L O/U':'PredictedWins'})\n",
    "    x['Difference'] = x['PredictedWins'] - x['Result']\n",
    "    x = x.sort_values(by='Difference', ascending=False).reset_index(drop=True)\n",
    "    return x"
   ]
  },
  {
   "cell_type": "code",
   "execution_count": 108,
   "id": "816b90c5",
   "metadata": {},
   "outputs": [],
   "source": [
    "odds2021 = clean_df(odds2021)\n",
    "odds2020 = clean_df(odds2020)\n",
    "odds2019 = clean_df(odds2019)\n",
    "odds2018 = clean_df(odds2018)\n",
    "odds2017 = clean_df(odds2017)\n",
    "odds2016 = clean_df(odds2016)\n",
    "odds2015 = clean_df(odds2015)\n",
    "odds2014 = clean_df(odds2014)\n",
    "odds2013 = clean_df(odds2013)\n",
    "odds2012 = clean_df(odds2012)\n",
    "odds2011 = clean_df(odds2011)\n",
    "odds2010 = clean_df(odds2010)\n",
    "odds2009 = clean_df(odds2009)\n",
    "odds2008 = clean_df(odds2008)\n",
    "odds2007 = clean_df(odds2007)\n",
    "odds2006 = clean_df(odds2006)\n",
    "odds2005 = clean_df(odds2005)\n",
    "odds2004 = clean_df(odds2004)\n",
    "odds2003 = clean_df(odds2003)\n",
    "odds2002 = clean_df(odds2002)\n",
    "odds2001 = clean_df(odds2001)\n",
    "odds2000 = clean_df(odds2000)"
   ]
  },
  {
   "cell_type": "code",
   "execution_count": 109,
   "id": "dc39d93d",
   "metadata": {},
   "outputs": [],
   "source": [
    "def add_year(df, year):\n",
    "    df['Team'] = year + ' ' + df['Team']"
   ]
  },
  {
   "cell_type": "code",
   "execution_count": 110,
   "id": "194ebb69",
   "metadata": {},
   "outputs": [],
   "source": [
    "add_year(odds2000, '2000')\n",
    "add_year(odds2001, '2001')\n",
    "add_year(odds2002, '2002')\n",
    "add_year(odds2003, '2003')\n",
    "add_year(odds2004, '2004')\n",
    "add_year(odds2005, '2005')\n",
    "add_year(odds2006, '2006')\n",
    "add_year(odds2007, '2007')\n",
    "add_year(odds2008, '2008')\n",
    "add_year(odds2009, '2009')\n",
    "add_year(odds2010, '2010')\n",
    "add_year(odds2011, '2011')\n",
    "add_year(odds2012, '2012')\n",
    "add_year(odds2013, '2013')\n",
    "add_year(odds2014, '2014')\n",
    "add_year(odds2015, '2015')\n",
    "add_year(odds2016, '2016')\n",
    "add_year(odds2017, '2017')\n",
    "add_year(odds2018, '2018')\n",
    "add_year(odds2019, '2019')\n",
    "add_year(odds2020, '2020')\n",
    "add_year(odds2021, '2021')"
   ]
  },
  {
   "cell_type": "code",
   "execution_count": 111,
   "id": "e3196422",
   "metadata": {},
   "outputs": [],
   "source": [
    "all_years = [odds2000, odds2001, odds2002, odds2003, odds2004, odds2005, odds2006, odds2007, odds2008, odds2009, odds2010,\n",
    "            odds2011, odds2012, odds2013, odds2014, odds2015, odds2016, odds2017, odds2018, odds2019, odds2020, odds2021]"
   ]
  },
  {
   "cell_type": "code",
   "execution_count": 112,
   "id": "939f60a7",
   "metadata": {},
   "outputs": [],
   "source": [
    "full_df = pd.concat(all_years)"
   ]
  },
  {
   "cell_type": "code",
   "execution_count": 113,
   "id": "515a7709",
   "metadata": {},
   "outputs": [],
   "source": [
    "full_df_clean = full_df.loc[full_df['PredictedWins'] > 50]"
   ]
  },
  {
   "cell_type": "code",
   "execution_count": 114,
   "id": "6c03ee1f",
   "metadata": {},
   "outputs": [],
   "source": [
    "full_df_sort = full_df_clean.sort_values(by='Difference', ascending=False).reset_index(drop=True)"
   ]
  },
  {
   "cell_type": "code",
   "execution_count": 131,
   "id": "a1620413",
   "metadata": {},
   "outputs": [
    {
     "name": "stderr",
     "output_type": "stream",
     "text": [
      "<ipython-input-131-f48dd1ae7426>:1: SettingWithCopyWarning: \n",
      "A value is trying to be set on a copy of a slice from a DataFrame\n",
      "\n",
      "See the caveats in the documentation: https://pandas.pydata.org/pandas-docs/stable/user_guide/indexing.html#returning-a-view-versus-a-copy\n",
      "  full_df_sort['Team'][8] = '2004 T-Wolves'\n"
     ]
    }
   ],
   "source": [
    "full_df_sort['Team'][8] = '2004 T-Wolves'"
   ]
  },
  {
   "cell_type": "code",
   "execution_count": 132,
   "id": "129062c6",
   "metadata": {},
   "outputs": [
    {
     "data": {
      "text/plain": [
       "Text(0.5, 1.0, 'Greatest Differences in Predicted Wins vs Final Wins Since 2000')"
      ]
     },
     "execution_count": 132,
     "metadata": {},
     "output_type": "execute_result"
    },
    {
     "data": {
      "image/png": "[encoded data removed]",
      "text/plain": [
       "<Figure size 1800x720 with 1 Axes>"
      ]
     },
     "metadata": {},
     "output_type": "display_data"
    }
   ],
   "source": [
    "plt.figure(figsize=(25,10))\n",
    "sns.set_theme(style=\"whitegrid\")\n",
    "sns.barplot(x='Team', y='Difference', data=full_df_sort[:20])\n",
    "plt.title('Greatest Differences in Predicted Wins vs Final Wins Since 2000')"
   ]
  },
  {
   "cell_type": "code",
   "execution_count": null,
   "id": "04273146",
   "metadata": {},
   "outputs": [],
   "source": []
  },
  {
   "cell_type": "code",
   "execution_count": null,
   "id": "ff55f82e",
   "metadata": {},
   "outputs": [],
   "source": []
  }
 ],
 "metadata": {
  "kernelspec": {
   "display_name": "Python 3",
   "language": "python",
   "name": "python3"
  },
  "language_info": {
   "codemirror_mode": {
    "name": "ipython",
    "version": 3
   },
   "file_extension": ".py",
   "mimetype": "text/x-python",
   "name": "python",
   "nbconvert_exporter": "python",
   "pygments_lexer": "ipython3",
   "version": "3.8.8"
  }
 },
 "nbformat": 4,
 "nbformat_minor": 5
}
